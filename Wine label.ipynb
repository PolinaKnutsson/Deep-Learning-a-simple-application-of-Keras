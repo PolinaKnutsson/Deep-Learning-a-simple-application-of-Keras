{
 "cells": [
  {
   "cell_type": "code",
   "execution_count": 1,
   "metadata": {},
   "outputs": [
    {
     "name": "stderr",
     "output_type": "stream",
     "text": [
      "/anaconda3/lib/python3.6/site-packages/h5py/__init__.py:36: FutureWarning: Conversion of the second argument of issubdtype from `float` to `np.floating` is deprecated. In future, it will be treated as `np.float64 == np.dtype(float).type`.\n",
      "  from ._conv import register_converters as _register_converters\n"
     ]
    }
   ],
   "source": [
    "import numpy as np\n",
    "import pandas as pd\n",
    "import matplotlib.pyplot as plt\n",
    "import seaborn as sns\n",
    "sns.set_style(\"darkgrid\")\n",
    "\n",
    "\n",
    "from sklearn.model_selection import train_test_split\n",
    "from sklearn.preprocessing import MinMaxScaler, LabelEncoder\n",
    "from sklearn.metrics import classification_report\n",
    "\n",
    "import tensorflow as tf\n",
    "from tensorflow.contrib.keras import models\n",
    "from tensorflow.contrib.keras import layers\n",
    "from tensorflow.contrib.keras import losses,optimizers,metrics\n",
    "\n",
    "import warnings\n",
    "warnings.simplefilter('ignore')\n",
    "warnings.filterwarnings('ignore')\n"
   ]
  },
  {
   "cell_type": "code",
   "execution_count": 2,
   "metadata": {},
   "outputs": [],
   "source": [
    "df = pd.read_csv('winequality_red.csv')"
   ]
  },
  {
   "cell_type": "code",
   "execution_count": 3,
   "metadata": {},
   "outputs": [
    {
     "data": {
      "text/html": [
       "<div>\n",
       "<style scoped>\n",
       "    .dataframe tbody tr th:only-of-type {\n",
       "        vertical-align: middle;\n",
       "    }\n",
       "\n",
       "    .dataframe tbody tr th {\n",
       "        vertical-align: top;\n",
       "    }\n",
       "\n",
       "    .dataframe thead th {\n",
       "        text-align: right;\n",
       "    }\n",
       "</style>\n",
       "<table border=\"1\" class=\"dataframe\">\n",
       "  <thead>\n",
       "    <tr style=\"text-align: right;\">\n",
       "      <th></th>\n",
       "      <th>fixed acidity</th>\n",
       "      <th>volatile acidity</th>\n",
       "      <th>citric acid</th>\n",
       "      <th>residual sugar</th>\n",
       "      <th>chlorides</th>\n",
       "      <th>free sulfur dioxide</th>\n",
       "      <th>total sulfur dioxide</th>\n",
       "      <th>density</th>\n",
       "      <th>pH</th>\n",
       "      <th>sulphates</th>\n",
       "      <th>alcohol</th>\n",
       "      <th>quality</th>\n",
       "    </tr>\n",
       "  </thead>\n",
       "  <tbody>\n",
       "    <tr>\n",
       "      <th>0</th>\n",
       "      <td>7.4</td>\n",
       "      <td>0.70</td>\n",
       "      <td>0.00</td>\n",
       "      <td>1.9</td>\n",
       "      <td>0.076</td>\n",
       "      <td>11.0</td>\n",
       "      <td>34.0</td>\n",
       "      <td>0.9978</td>\n",
       "      <td>3.51</td>\n",
       "      <td>0.56</td>\n",
       "      <td>9.4</td>\n",
       "      <td>5</td>\n",
       "    </tr>\n",
       "    <tr>\n",
       "      <th>1</th>\n",
       "      <td>7.8</td>\n",
       "      <td>0.88</td>\n",
       "      <td>0.00</td>\n",
       "      <td>2.6</td>\n",
       "      <td>0.098</td>\n",
       "      <td>25.0</td>\n",
       "      <td>67.0</td>\n",
       "      <td>0.9968</td>\n",
       "      <td>3.20</td>\n",
       "      <td>0.68</td>\n",
       "      <td>9.8</td>\n",
       "      <td>5</td>\n",
       "    </tr>\n",
       "    <tr>\n",
       "      <th>2</th>\n",
       "      <td>7.8</td>\n",
       "      <td>0.76</td>\n",
       "      <td>0.04</td>\n",
       "      <td>2.3</td>\n",
       "      <td>0.092</td>\n",
       "      <td>15.0</td>\n",
       "      <td>54.0</td>\n",
       "      <td>0.9970</td>\n",
       "      <td>3.26</td>\n",
       "      <td>0.65</td>\n",
       "      <td>9.8</td>\n",
       "      <td>5</td>\n",
       "    </tr>\n",
       "    <tr>\n",
       "      <th>3</th>\n",
       "      <td>11.2</td>\n",
       "      <td>0.28</td>\n",
       "      <td>0.56</td>\n",
       "      <td>1.9</td>\n",
       "      <td>0.075</td>\n",
       "      <td>17.0</td>\n",
       "      <td>60.0</td>\n",
       "      <td>0.9980</td>\n",
       "      <td>3.16</td>\n",
       "      <td>0.58</td>\n",
       "      <td>9.8</td>\n",
       "      <td>6</td>\n",
       "    </tr>\n",
       "    <tr>\n",
       "      <th>4</th>\n",
       "      <td>7.4</td>\n",
       "      <td>0.70</td>\n",
       "      <td>0.00</td>\n",
       "      <td>1.9</td>\n",
       "      <td>0.076</td>\n",
       "      <td>11.0</td>\n",
       "      <td>34.0</td>\n",
       "      <td>0.9978</td>\n",
       "      <td>3.51</td>\n",
       "      <td>0.56</td>\n",
       "      <td>9.4</td>\n",
       "      <td>5</td>\n",
       "    </tr>\n",
       "  </tbody>\n",
       "</table>\n",
       "</div>"
      ],
      "text/plain": [
       "   fixed acidity  volatile acidity  citric acid  residual sugar  chlorides  \\\n",
       "0            7.4              0.70         0.00             1.9      0.076   \n",
       "1            7.8              0.88         0.00             2.6      0.098   \n",
       "2            7.8              0.76         0.04             2.3      0.092   \n",
       "3           11.2              0.28         0.56             1.9      0.075   \n",
       "4            7.4              0.70         0.00             1.9      0.076   \n",
       "\n",
       "   free sulfur dioxide  total sulfur dioxide  density    pH  sulphates  \\\n",
       "0                 11.0                  34.0   0.9978  3.51       0.56   \n",
       "1                 25.0                  67.0   0.9968  3.20       0.68   \n",
       "2                 15.0                  54.0   0.9970  3.26       0.65   \n",
       "3                 17.0                  60.0   0.9980  3.16       0.58   \n",
       "4                 11.0                  34.0   0.9978  3.51       0.56   \n",
       "\n",
       "   alcohol  quality  \n",
       "0      9.4        5  \n",
       "1      9.8        5  \n",
       "2      9.8        5  \n",
       "3      9.8        6  \n",
       "4      9.4        5  "
      ]
     },
     "execution_count": 3,
     "metadata": {},
     "output_type": "execute_result"
    }
   ],
   "source": [
    "df.head()"
   ]
  },
  {
   "cell_type": "code",
   "execution_count": 3,
   "metadata": {},
   "outputs": [
    {
     "data": {
      "text/plain": [
       "(array([ 10.,   0.,  53.,   0., 681.,   0., 638.,   0., 199.,  18.]),\n",
       " array([3. , 3.5, 4. , 4.5, 5. , 5.5, 6. , 6.5, 7. , 7.5, 8. ]),\n",
       " <a list of 10 Patch objects>)"
      ]
     },
     "execution_count": 3,
     "metadata": {},
     "output_type": "execute_result"
    },
    {
     "data": {
      "image/png": "[encoded data removed]",
      "text/plain": [
       "<Figure size 360x216 with 1 Axes>"
      ]
     },
     "metadata": {},
     "output_type": "display_data"
    }
   ],
   "source": [
    "fig = plt.figure(figsize = (5,3))\n",
    "plt.hist(df['quality'])"
   ]
  },
  {
   "cell_type": "code",
   "execution_count": 4,
   "metadata": {},
   "outputs": [],
   "source": [
    "bins = (2, 6.5, 8)\n",
    "group_names = ['bad', 'good']\n",
    "df['quality'] = pd.cut(df['quality'], bins = bins, labels = group_names)"
   ]
  },
  {
   "cell_type": "code",
   "execution_count": 5,
   "metadata": {},
   "outputs": [],
   "source": [
    "label_quality = LabelEncoder()"
   ]
  },
  {
   "cell_type": "code",
   "execution_count": 6,
   "metadata": {},
   "outputs": [],
   "source": [
    "df['quality'] = label_quality.fit_transform(df['quality'])"
   ]
  },
  {
   "cell_type": "code",
   "execution_count": 7,
   "metadata": {},
   "outputs": [
    {
     "data": {
      "text/plain": [
       "0    1382\n",
       "1     217\n",
       "Name: quality, dtype: int64"
      ]
     },
     "execution_count": 7,
     "metadata": {},
     "output_type": "execute_result"
    }
   ],
   "source": [
    "df['quality'].value_counts()"
   ]
  },
  {
   "cell_type": "code",
   "execution_count": 8,
   "metadata": {},
   "outputs": [],
   "source": [
    "feat_data = df.drop('quality',axis=1)\n",
    "labels = df['quality']"
   ]
  },
  {
   "cell_type": "code",
   "execution_count": 9,
   "metadata": {},
   "outputs": [],
   "source": [
    "X_train, X_test, y_train, y_test = train_test_split(feat_data,\n",
    "                                                    labels,\n",
    "                                                    test_size=0.2,\n",
    "                                                   random_state=42)"
   ]
  },
  {
   "cell_type": "code",
   "execution_count": 10,
   "metadata": {},
   "outputs": [],
   "source": [
    "scaler = MinMaxScaler()"
   ]
  },
  {
   "cell_type": "code",
   "execution_count": 11,
   "metadata": {},
   "outputs": [],
   "source": [
    "scaled_x_train = scaler.fit_transform(X_train)\n",
    "scaled_x_test = scaler.transform(X_test)"
   ]
  },
  {
   "cell_type": "code",
   "execution_count": 12,
   "metadata": {},
   "outputs": [
    {
     "data": {
      "text/plain": [
       "(1279, 11)"
      ]
     },
     "execution_count": 12,
     "metadata": {},
     "output_type": "execute_result"
    }
   ],
   "source": [
    "X_train.shape"
   ]
  },
  {
   "cell_type": "markdown",
   "metadata": {},
   "source": [
    "# Create model and layers"
   ]
  },
  {
   "cell_type": "code",
   "execution_count": 13,
   "metadata": {},
   "outputs": [],
   "source": [
    "# Model\n",
    "dnn = models.Sequential()"
   ]
  },
  {
   "cell_type": "code",
   "execution_count": 14,
   "metadata": {},
   "outputs": [],
   "source": [
    "# Layers\n",
    "dnn.add(layers.Dense(units=11,input_dim=11, activation='relu'))\n",
    "dnn.add(layers.Dense(units=11, activation='relu'))\n",
    "dnn.add(layers.Dense(units=11, activation='relu'))\n",
    "dnn.add(layers.Dense(units=2, activation='softmax'))"
   ]
  },
  {
   "cell_type": "code",
   "execution_count": 15,
   "metadata": {},
   "outputs": [],
   "source": [
    "# Loss funciton\n",
    "#losses.sparse_categorical_crossentropy"
   ]
  },
  {
   "cell_type": "code",
   "execution_count": 16,
   "metadata": {},
   "outputs": [],
   "source": [
    "dnn.compile(optimizer='adam', \n",
    "            loss='sparse_categorical_crossentropy',\n",
    "             metrics = ['accuracy'])"
   ]
  },
  {
   "cell_type": "code",
   "execution_count": 17,
   "metadata": {},
   "outputs": [
    {
     "name": "stdout",
     "output_type": "stream",
     "text": [
      "Epoch 1/50\n",
      "1279/1279 [==============================] - 0s 229us/step - loss: 0.5557 - acc: 0.8679\n",
      "Epoch 2/50\n",
      "1279/1279 [==============================] - 0s 30us/step - loss: 0.4057 - acc: 0.8671\n",
      "Epoch 3/50\n",
      "1279/1279 [==============================] - 0s 33us/step - loss: 0.3550 - acc: 0.8671\n",
      "Epoch 4/50\n",
      "1279/1279 [==============================] - 0s 34us/step - loss: 0.3285 - acc: 0.8655\n",
      "Epoch 5/50\n",
      "1279/1279 [==============================] - 0s 34us/step - loss: 0.3118 - acc: 0.8671\n",
      "Epoch 6/50\n",
      "1279/1279 [==============================] - 0s 32us/step - loss: 0.3003 - acc: 0.8733\n",
      "Epoch 7/50\n",
      "1279/1279 [==============================] - 0s 29us/step - loss: 0.2946 - acc: 0.8749\n",
      "Epoch 8/50\n",
      "1279/1279 [==============================] - 0s 30us/step - loss: 0.2894 - acc: 0.8765\n",
      "Epoch 9/50\n",
      "1279/1279 [==============================] - 0s 29us/step - loss: 0.2877 - acc: 0.8772\n",
      "Epoch 10/50\n",
      "1279/1279 [==============================] - 0s 30us/step - loss: 0.2861 - acc: 0.8757\n",
      "Epoch 11/50\n",
      "1279/1279 [==============================] - 0s 29us/step - loss: 0.2848 - acc: 0.8804\n",
      "Epoch 12/50\n",
      "1279/1279 [==============================] - 0s 30us/step - loss: 0.2833 - acc: 0.8772\n",
      "Epoch 13/50\n",
      "1279/1279 [==============================] - 0s 31us/step - loss: 0.2810 - acc: 0.8843\n",
      "Epoch 14/50\n",
      "1279/1279 [==============================] - 0s 30us/step - loss: 0.2816 - acc: 0.8819\n",
      "Epoch 15/50\n",
      "1279/1279 [==============================] - 0s 30us/step - loss: 0.2796 - acc: 0.8812\n",
      "Epoch 16/50\n",
      "1279/1279 [==============================] - 0s 28us/step - loss: 0.2783 - acc: 0.8827\n",
      "Epoch 17/50\n",
      "1279/1279 [==============================] - 0s 29us/step - loss: 0.2810 - acc: 0.8874\n",
      "Epoch 18/50\n",
      "1279/1279 [==============================] - 0s 29us/step - loss: 0.2766 - acc: 0.8851\n",
      "Epoch 19/50\n",
      "1279/1279 [==============================] - 0s 34us/step - loss: 0.2752 - acc: 0.8890\n",
      "Epoch 20/50\n",
      "1279/1279 [==============================] - 0s 30us/step - loss: 0.2754 - acc: 0.8835\n",
      "Epoch 21/50\n",
      "1279/1279 [==============================] - 0s 30us/step - loss: 0.2745 - acc: 0.8882\n",
      "Epoch 22/50\n",
      "1279/1279 [==============================] - 0s 29us/step - loss: 0.2734 - acc: 0.8843\n",
      "Epoch 23/50\n",
      "1279/1279 [==============================] - 0s 29us/step - loss: 0.2734 - acc: 0.8851\n",
      "Epoch 24/50\n",
      "1279/1279 [==============================] - 0s 35us/step - loss: 0.2725 - acc: 0.8929\n",
      "Epoch 25/50\n",
      "1279/1279 [==============================] - 0s 30us/step - loss: 0.2729 - acc: 0.8858\n",
      "Epoch 26/50\n",
      "1279/1279 [==============================] - 0s 30us/step - loss: 0.2715 - acc: 0.8874\n",
      "Epoch 27/50\n",
      "1279/1279 [==============================] - 0s 30us/step - loss: 0.2741 - acc: 0.8866\n",
      "Epoch 28/50\n",
      "1279/1279 [==============================] - 0s 31us/step - loss: 0.2709 - acc: 0.8905\n",
      "Epoch 29/50\n",
      "1279/1279 [==============================] - 0s 30us/step - loss: 0.2713 - acc: 0.8866\n",
      "Epoch 30/50\n",
      "1279/1279 [==============================] - 0s 30us/step - loss: 0.2695 - acc: 0.8882\n",
      "Epoch 31/50\n",
      "1279/1279 [==============================] - 0s 30us/step - loss: 0.2714 - acc: 0.8851\n",
      "Epoch 32/50\n",
      "1279/1279 [==============================] - 0s 31us/step - loss: 0.2695 - acc: 0.8843\n",
      "Epoch 33/50\n",
      "1279/1279 [==============================] - 0s 31us/step - loss: 0.2687 - acc: 0.8905\n",
      "Epoch 34/50\n",
      "1279/1279 [==============================] - 0s 30us/step - loss: 0.2701 - acc: 0.8890\n",
      "Epoch 35/50\n",
      "1279/1279 [==============================] - 0s 30us/step - loss: 0.2679 - acc: 0.8898\n",
      "Epoch 36/50\n",
      "1279/1279 [==============================] - 0s 30us/step - loss: 0.2690 - acc: 0.8858\n",
      "Epoch 37/50\n",
      "1279/1279 [==============================] - 0s 30us/step - loss: 0.2676 - acc: 0.8858\n",
      "Epoch 38/50\n",
      "1279/1279 [==============================] - 0s 32us/step - loss: 0.2689 - acc: 0.8913\n",
      "Epoch 39/50\n",
      "1279/1279 [==============================] - 0s 32us/step - loss: 0.2710 - acc: 0.8882\n",
      "Epoch 40/50\n",
      "1279/1279 [==============================] - 0s 32us/step - loss: 0.2712 - acc: 0.8882\n",
      "Epoch 41/50\n",
      "1279/1279 [==============================] - 0s 30us/step - loss: 0.2672 - acc: 0.8898\n",
      "Epoch 42/50\n",
      "1279/1279 [==============================] - 0s 30us/step - loss: 0.2673 - acc: 0.8905\n",
      "Epoch 43/50\n",
      "1279/1279 [==============================] - 0s 28us/step - loss: 0.2656 - acc: 0.8905\n",
      "Epoch 44/50\n",
      "1279/1279 [==============================] - 0s 32us/step - loss: 0.2663 - acc: 0.8890\n",
      "Epoch 45/50\n",
      "1279/1279 [==============================] - 0s 29us/step - loss: 0.2677 - acc: 0.8929\n",
      "Epoch 46/50\n",
      "1279/1279 [==============================] - 0s 30us/step - loss: 0.2666 - acc: 0.8874\n",
      "Epoch 47/50\n",
      "1279/1279 [==============================] - 0s 27us/step - loss: 0.2659 - acc: 0.8929\n",
      "Epoch 48/50\n",
      "1279/1279 [==============================] - 0s 28us/step - loss: 0.2653 - acc: 0.8913\n",
      "Epoch 49/50\n",
      "1279/1279 [==============================] - 0s 31us/step - loss: 0.2654 - acc: 0.8913\n",
      "Epoch 50/50\n",
      "1279/1279 [==============================] - 0s 30us/step - loss: 0.2664 - acc: 0.8921\n"
     ]
    },
    {
     "data": {
      "text/plain": [
       "<tensorflow.python.keras.callbacks.History at 0x1c2bd5d390>"
      ]
     },
     "execution_count": 17,
     "metadata": {},
     "output_type": "execute_result"
    }
   ],
   "source": [
    "dnn.fit(scaled_x_train,y_train,epochs=50)"
   ]
  },
  {
   "cell_type": "code",
   "execution_count": 18,
   "metadata": {},
   "outputs": [],
   "source": [
    "predictions = dnn.predict_classes(scaled_x_test)"
   ]
  },
  {
   "cell_type": "code",
   "execution_count": 19,
   "metadata": {},
   "outputs": [
    {
     "name": "stdout",
     "output_type": "stream",
     "text": [
      "             precision    recall  f1-score   support\n",
      "\n",
      "          0       0.96      0.88      0.92       296\n",
      "          1       0.26      0.50      0.34        24\n",
      "\n",
      "avg / total       0.90      0.85      0.87       320\n",
      "\n"
     ]
    }
   ],
   "source": [
    "print(classification_report(predictions,y_test))"
   ]
  }
 ],
 "metadata": {
  "kernelspec": {
   "display_name": "Python 3",
   "language": "python",
   "name": "python3"
  },
  "language_info": {
   "codemirror_mode": {
    "name": "ipython",
    "version": 3
   },
   "file_extension": ".py",
   "mimetype": "text/x-python",
   "name": "python",
   "nbconvert_exporter": "python",
   "pygments_lexer": "ipython3",
   "version": "3.6.5"
  }
 },
 "nbformat": 4,
 "nbformat_minor": 2
}
